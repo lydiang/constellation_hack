{
 "cells": [
  {
   "cell_type": "code",
   "execution_count": 1,
   "id": "268ed578-84be-4166-b837-3f6311ae3474",
   "metadata": {},
   "outputs": [],
   "source": [
    "from bs4 import BeautifulSoup\n",
    "from bs4 import NavigableString\n",
    "import pandas as pd\n",
    "import numpy as np\n",
    "import matplotlib.pyplot as plt\n",
    "import re\n",
    "from scipy.spatial.distance import pdist, squareform\n",
    "import os"
   ]
  },
  {
   "cell_type": "markdown",
   "id": "e56ddb1a-bcef-4f45-bab5-a3d24a7a1b0d",
   "metadata": {},
   "source": [
    "# Read in reference SVG"
   ]
  },
  {
   "cell_type": "code",
   "execution_count": 2,
   "id": "d4a003e1-7923-4f47-b652-bcc30cfd1f52",
   "metadata": {},
   "outputs": [],
   "source": [
    "file = 'MOD2.subclass_classcol.constellation.svg'\n",
    "with open(file) as fp:\n",
    "    data = fp.read()\n",
    "    soup = BeautifulSoup( data, 'xml' )"
   ]
  },
  {
   "cell_type": "markdown",
   "id": "7c9a4200-2a49-46e6-9b9a-b879119f88a1",
   "metadata": {},
   "source": [
    "# Read in parsed information"
   ]
  },
  {
   "cell_type": "code",
   "execution_count": 13,
   "id": "223061e5-804c-4a14-b689-bb635645f87c",
   "metadata": {},
   "outputs": [],
   "source": [
    "input_directory = 'parsed'\n",
    "\n",
    "file = os.path.join( input_directory, 'circles.csv')\n",
    "circles = pd.read_csv( file )\n",
    "\n",
    "file = os.path.join( input_directory, 'annotations.csv')\n",
    "annotations = pd.read_csv( file )\n",
    "\n",
    "file = os.path.join( input_directory, 'connections.csv')\n",
    "connections = pd.read_csv( file )\n",
    "\n",
    "file = os.path.join( input_directory, 'subclasses.csv')\n",
    "subclasses = pd.read_csv( file )\n",
    "\n",
    "file = os.path.join( input_directory, 'classes.csv')\n",
    "classes = pd.read_csv( file )"
   ]
  },
  {
   "cell_type": "code",
   "execution_count": 4,
   "id": "e1971c6c-4b98-4dbd-8805-f7b129b74547",
   "metadata": {},
   "outputs": [],
   "source": [
    "subclasses.set_index('node', inplace=True )"
   ]
  },
  {
   "cell_type": "markdown",
   "id": "fd9d9f9c-8d2f-4bf3-9d5c-7dfcdbe5c332",
   "metadata": {},
   "source": [
    "# Create reorganized and labeled SVG"
   ]
  },
  {
   "cell_type": "code",
   "execution_count": 5,
   "id": "4464e443-22b2-4cb7-b693-478d00220c28",
   "metadata": {},
   "outputs": [],
   "source": [
    "# create a new soup\n",
    "newSoup = BeautifulSoup(features='xml')\n",
    "newSvg = newSoup.new_tag('svg')\n",
    "newSvg.attrs = soup.svg.attrs.copy()\n",
    "newSoup.append(newSvg)"
   ]
  },
  {
   "cell_type": "code",
   "execution_count": 6,
   "id": "b2b669e7-3efd-49f1-a5b5-291e7ba47a8c",
   "metadata": {},
   "outputs": [],
   "source": [
    "pocHost = 'http://35.92.115.7:8883'"
   ]
  },
  {
   "cell_type": "code",
   "execution_count": 7,
   "id": "a4acb511-7569-43ae-9ea9-a4f48e1c709f",
   "metadata": {},
   "outputs": [],
   "source": [
    "output_file_name = 'test2.svg'\n",
    "connections_layer = True\n",
    "nodes_layer = True\n",
    "nodes_subclass_color_layer = False\n",
    "labels_layer = True"
   ]
  },
  {
   "cell_type": "code",
   "execution_count": 8,
   "id": "3f2e9de5-cba4-45f7-bc9f-f98939f403a7",
   "metadata": {},
   "outputs": [],
   "source": [
    "if connections_layer :\n",
    "    # create connections group\n",
    "    newGroup = newSoup.new_tag('g')\n",
    "    newGroup['id'] = 'connections'\n",
    "    newSvg.append(newGroup)\n",
    "    \n",
    "    for cindex, crow in connections.iterrows() :\n",
    "    \n",
    "        newPolygon = newSoup.new_tag('polygon')\n",
    "        newPolygon.attrs['points'] = crow['points']\n",
    "        newPolygon.attrs['fill'] = '#BBBBBB'\n",
    "    \n",
    "        nstart = subclasses.loc[crow['start_node'],'name']\n",
    "        nend = subclasses.loc[crow['end_node'],'name']\n",
    "        cstr = nstart + ':: ' + nend\n",
    "        newTitle = newSoup.new_tag('title')\n",
    "        newString = NavigableString( cstr )\n",
    "        newTitle.append(newString)\n",
    "        newPolygon.append( newTitle )\n",
    "    \n",
    "        newGroup.append(newPolygon)\n"
   ]
  },
  {
   "cell_type": "code",
   "execution_count": 9,
   "id": "61c028e8-60b8-4b7c-8478-24ec5d921ee8",
   "metadata": {},
   "outputs": [],
   "source": [
    "if nodes_subclass_color_layer :\n",
    "    # create nodes group\n",
    "    newGroup = newSoup.new_tag('g')\n",
    "    newGroup['id'] = 'nodes'\n",
    "    newSvg.append(newGroup)\n",
    "    \n",
    "    for cindex, crow in circles.iterrows() :\n",
    "    \n",
    "        newLink = newSoup.new_tag('a')\n",
    "        newLink.attrs['href'] = '%s/display_entity?entity_id=CS20230722_SUBC_%03d' % (pocHost,int(crow['node']))\n",
    "        \n",
    "        newPath = newSoup.new_tag('path')\n",
    "        newPath.attrs['id'] = crow['id']\n",
    "        newPath.attrs['d'] = crow['d']\n",
    "        newPath.attrs['fill'] = subclasses.loc[crow['node'],'color_hex_triplet']\n",
    "        \n",
    "        newTitle = newSoup.new_tag('title')\n",
    "        newString = NavigableString( subclasses.loc[crow['node'],'name'] )\n",
    "        newTitle.append(newString)\n",
    "        newPath.append(newTitle)\n",
    "    \n",
    "        newLink.append(newPath)\n",
    "        newGroup.append(newLink)"
   ]
  },
  {
   "cell_type": "code",
   "execution_count": 10,
   "id": "bc2a70bd-2f15-409f-996e-ec91a1f640dd",
   "metadata": {},
   "outputs": [],
   "source": [
    "if nodes_layer :\n",
    "    # create nodes group\n",
    "    newGroup = newSoup.new_tag('g')\n",
    "    newGroup['id'] = 'nodes'\n",
    "    newSvg.append(newGroup)\n",
    "    \n",
    "    for cindex, crow in circles.iterrows() :\n",
    "    \n",
    "        newLink = newSoup.new_tag('a')\n",
    "        newLink.attrs['href'] = '%s/display_entity?entity_id=CS20230722_SUBC_%03d' % (pocHost,int(crow['node']))\n",
    "        \n",
    "        newPath = newSoup.new_tag('path')\n",
    "        newPath.attrs['id'] = crow['id']\n",
    "        newPath.attrs['d'] = crow['d']\n",
    "        newPath.attrs['fill'] = subclasses.loc[crow['node'],'parent_color_hex_triplet']\n",
    "        \n",
    "        newTitle = newSoup.new_tag('title')\n",
    "        newString = NavigableString( subclasses.loc[crow['node'],'name'] )\n",
    "        newTitle.append(newString)\n",
    "        newPath.append(newTitle)\n",
    "    \n",
    "        newLink.append(newPath)\n",
    "        newGroup.append(newLink)"
   ]
  },
  {
   "cell_type": "code",
   "execution_count": 11,
   "id": "3a5eef26-34ac-43a3-bc32-1f3798524702",
   "metadata": {},
   "outputs": [],
   "source": [
    "if labels_layer :\n",
    "    # create label group\n",
    "    newGroup = newSoup.new_tag('g')\n",
    "    newGroup['id'] = 'labels'\n",
    "    newSvg.append(newGroup)\n",
    "    \n",
    "    for cindex, crow in annotations.iterrows() :\n",
    "    \n",
    "        newLink = newSoup.new_tag('a')\n",
    "        newLink.attrs['href'] = '%s/display_entity?entity_id=CS20230722_SUBC_%03d' % (pocHost,int(crow['node']))\n",
    "        \n",
    "        newText = newSoup.new_tag('text')\n",
    "        newString = NavigableString( str(crow['node']) )\n",
    "        newText.append(newString)\n",
    "    \n",
    "        newText.attrs['transform'] = crow['transform']\n",
    "        newText.attrs['font-size'] = 7\n",
    "        newText.attrs['font-family'] = \"Arial\"\n",
    "        newText.attrs['fill'] = '#444444'\n",
    "    \n",
    "        newTitle = newSoup.new_tag('title')\n",
    "        newString = NavigableString( subclasses.loc[crow['node'],'name'] )\n",
    "        newTitle.append(newString)\n",
    "        newText.append(newTitle)\n",
    "    \n",
    "        newLink.append(newText)\n",
    "        newGroup.append(newLink)\n"
   ]
  },
  {
   "cell_type": "code",
   "execution_count": 12,
   "id": "12fdd4ed-57fc-476d-9039-3efc57494e17",
   "metadata": {},
   "outputs": [],
   "source": [
    "output_directory = 'output'\n",
    "os.makedirs( output_directory, exist_ok = True )\n",
    "file = os.path.join( output_directory, output_file_name )\n",
    "with open(file, \"w\") as f:\n",
    "    f.write(str(newSoup))"
   ]
  },
  {
   "cell_type": "code",
   "execution_count": null,
   "id": "222df03a-b214-4b9a-ad52-8b6d06f454df",
   "metadata": {},
   "outputs": [],
   "source": []
  }
 ],
 "metadata": {
  "kernelspec": {
   "display_name": "Python 3 (ipykernel)",
   "language": "python",
   "name": "python3"
  },
  "language_info": {
   "codemirror_mode": {
    "name": "ipython",
    "version": 3
   },
   "file_extension": ".py",
   "mimetype": "text/x-python",
   "name": "python",
   "nbconvert_exporter": "python",
   "pygments_lexer": "ipython3",
   "version": "3.12.4"
  }
 },
 "nbformat": 4,
 "nbformat_minor": 5
}
